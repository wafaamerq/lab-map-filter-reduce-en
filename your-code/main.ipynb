{
 "cells": [
  {
   "cell_type": "code",
   "execution_count": 10,
   "metadata": {},
   "outputs": [
    {
     "name": "stdout",
     "output_type": "stream",
     "text": [
      "Defaulting to user installation because normal site-packages is not writeable\n",
      "Collecting pandas\n",
      "  Downloading pandas-2.2.3-cp39-cp39-macosx_11_0_arm64.whl (11.3 MB)\n",
      "\u001b[K     |████████████████████████████████| 11.3 MB 1.6 MB/s eta 0:00:01\n",
      "\u001b[?25hRequirement already satisfied: python-dateutil>=2.8.2 in /Users/wafaalqahtani/Library/Python/3.9/lib/python/site-packages (from pandas) (2.9.0.post0)\n",
      "Collecting numpy>=1.22.4\n",
      "  Downloading numpy-2.0.2-cp39-cp39-macosx_14_0_arm64.whl (5.3 MB)\n",
      "\u001b[K     |████████████████████████████████| 5.3 MB 7.0 MB/s eta 0:00:01\n",
      "\u001b[?25hCollecting pytz>=2020.1\n",
      "  Downloading pytz-2025.1-py2.py3-none-any.whl (507 kB)\n",
      "\u001b[K     |████████████████████████████████| 507 kB 8.3 MB/s eta 0:00:01\n",
      "\u001b[?25hCollecting tzdata>=2022.7\n",
      "  Downloading tzdata-2025.1-py2.py3-none-any.whl (346 kB)\n",
      "\u001b[K     |████████████████████████████████| 346 kB 6.1 MB/s eta 0:00:01\n",
      "\u001b[?25hRequirement already satisfied: six>=1.5 in /Library/Developer/CommandLineTools/Library/Frameworks/Python3.framework/Versions/3.9/lib/python3.9/site-packages (from python-dateutil>=2.8.2->pandas) (1.15.0)\n",
      "Installing collected packages: tzdata, pytz, numpy, pandas\n",
      "Successfully installed numpy-2.0.2 pandas-2.2.3 pytz-2025.1 tzdata-2025.1\n",
      "\u001b[33mWARNING: You are using pip version 21.2.4; however, version 25.0.1 is available.\n",
      "You should consider upgrading via the '/Library/Developer/CommandLineTools/usr/bin/python3 -m pip install --upgrade pip' command.\u001b[0m\n",
      "Note: you may need to restart the kernel to use updated packages.\n"
     ]
    }
   ],
   "source": [
    "pip install pandas\n"
   ]
  },
  {
   "cell_type": "code",
   "execution_count": 11,
   "metadata": {},
   "outputs": [
    {
     "name": "stdout",
     "output_type": "stream",
     "text": [
      "Defaulting to user installation because normal site-packages is not writeable\n",
      "Requirement already satisfied: numpy in /Users/wafaalqahtani/Library/Python/3.9/lib/python/site-packages (2.0.2)\n",
      "\u001b[33mWARNING: You are using pip version 21.2.4; however, version 25.0.1 is available.\n",
      "You should consider upgrading via the '/Library/Developer/CommandLineTools/usr/bin/python3 -m pip install --upgrade pip' command.\u001b[0m\n",
      "Note: you may need to restart the kernel to use updated packages.\n"
     ]
    }
   ],
   "source": [
    "pip install numpy\n"
   ]
  },
  {
   "cell_type": "markdown",
   "metadata": {},
   "source": [
    "# Before your start:\n",
    "- Read the README.md file\n",
    "- Comment as much as you can and use the resources in the README.md file\n",
    "- Happy learning!"
   ]
  },
  {
   "cell_type": "code",
   "execution_count": 12,
   "metadata": {},
   "outputs": [
    {
     "name": "stdout",
     "output_type": "stream",
     "text": [
      "Sum of the array: 15\n"
     ]
    }
   ],
   "source": [
    "# Import necessary libraries\n",
    "import numpy as np  # numpy for numerical operations\n",
    "\n",
    "# Function to compute the sum of an array\n",
    "def sum_array(arr):\n",
    "    \"\"\"\n",
    "    This function takes an array as input and returns the sum of all its elements.\n",
    "    \n",
    "    Parameters:\n",
    "    arr (list or numpy array): The array to sum up.\n",
    "    \n",
    "    Returns:\n",
    "    float: The sum of the elements in the array.\n",
    "    \"\"\"\n",
    "    # Check if the input is a list, then convert it to a numpy array\n",
    "    if not isinstance(arr, np.ndarray):\n",
    "        arr = np.array(arr)\n",
    "    \n",
    "    # Calculate the sum using numpy's built-in sum function\n",
    "    return np.sum(arr)\n",
    "\n",
    "# Test the function with a sample list\n",
    "sample_data = [1, 2, 3, 4, 5]\n",
    "result = sum_array(sample_data)\n",
    "print(f\"Sum of the array: {result}\")\n"
   ]
  },
  {
   "cell_type": "markdown",
   "metadata": {},
   "source": [
    "# Challenge 1 - Mapping\n",
    "\n",
    "#### We will use the map function to clean up words in a book.\n",
    "\n",
    "In the following cell, we will read a text file containing the book The Prophet by Khalil Gibran."
   ]
  },
  {
   "cell_type": "code",
   "execution_count": 13,
   "metadata": {},
   "outputs": [],
   "source": [
    "# Run this code:\n",
    "\n",
    "location = '../data/58585-0.txt'\n",
    "with open(location, 'r', encoding=\"utf8\") as f:\n",
    "    prophet = f.read().split(' ')"
   ]
  },
  {
   "cell_type": "code",
   "execution_count": 14,
   "metadata": {},
   "outputs": [
    {
     "data": {
      "text/plain": [
       "13637"
      ]
     },
     "execution_count": 14,
     "metadata": {},
     "output_type": "execute_result"
    }
   ],
   "source": [
    "len(prophet)"
   ]
  },
  {
   "cell_type": "markdown",
   "metadata": {},
   "source": [
    "#### Let's remove the first 568 words since they contain information about the book but are not part of the book itself. \n",
    "\n",
    "Do this by removing from `prophet` elements 0 through 567 of the list (you can also do this by keeping elements 568 through the last element)."
   ]
  },
  {
   "cell_type": "code",
   "execution_count": 15,
   "metadata": {},
   "outputs": [
    {
     "name": "stdout",
     "output_type": "stream",
     "text": [
      "['\\ufeffThe', 'Project', 'Gutenberg', 'EBook', 'of', 'The', 'Prophet,', 'by', 'Kahlil', 'Gibran\\n\\nThis']\n"
     ]
    }
   ],
   "source": [
    "# Path to the text file\n",
    "location = '../data/58585-0.txt'\n",
    "\n",
    "# Open and read the file, then split into words by space\n",
    "with open(location, 'r', encoding=\"utf8\") as f:\n",
    "    prophet = f.read().split(' ')\n",
    "\n",
    "# Print the first 10 words to check the output\n",
    "print(prophet[:10])\n"
   ]
  },
  {
   "cell_type": "markdown",
   "metadata": {},
   "source": [
    "If you look through the words, you will find that many words have a reference attached to them. For example, let's look at words 1 through 10."
   ]
  },
  {
   "cell_type": "code",
   "execution_count": 16,
   "metadata": {},
   "outputs": [
    {
     "name": "stdout",
     "output_type": "stream",
     "text": [
      "['\\ufeffThe', 'Project', 'Gutenberg', 'EBook', 'of', 'The', 'Prophet,', 'by', 'Kahlil', 'Gibran\\n\\nThis']\n",
      "Cleaned words: ['\\ufeffthe', 'project', 'gutenberg', 'ebook', 'of', 'the', 'prophet', 'by', 'kahlil', 'gibran\\n\\nthis']\n"
     ]
    }
   ],
   "source": [
    "# Print the first 10 words to check the data\n",
    "print(prophet[:10])\n",
    "import string\n",
    "\n",
    "# Function to clean a word\n",
    "def clean_word(word):\n",
    "    # Remove punctuation\n",
    "    cleaned_word = word.strip(string.punctuation).lower()\n",
    "    \n",
    "    # Remove digits if there are any references like 'word1'\n",
    "    cleaned_word = ''.join([char for char in cleaned_word if not char.isdigit()])\n",
    "    \n",
    "    return cleaned_word\n",
    "\n",
    "# Clean the first 10 words\n",
    "first_10_words = prophet[:10]\n",
    "cleaned_words = list(map(clean_word, first_10_words))\n",
    "\n",
    "# Print the cleaned words\n",
    "print(\"Cleaned words:\", cleaned_words)\n"
   ]
  },
  {
   "cell_type": "markdown",
   "metadata": {},
   "source": [
    "#### The next step is to create a function that will remove references. \n",
    "\n",
    "We will do this by splitting the string on the `{` character and keeping only the part before this character. Write your function below."
   ]
  },
  {
   "cell_type": "code",
   "execution_count": null,
   "metadata": {},
   "outputs": [],
   "source": [
    "\n",
    "    \n",
    "def reference(x):\n",
    "   return x.split('{')[0]\n",
    "   '''\n",
    "   Input: A string\n",
    "   Output: The string with references removed\n",
    "   \n",
    "   Example:\n",
    "   Input: 'the{7}'\n",
    "   Output: 'the'\n",
    "   '''\n",
    "    \n",
    "   \n",
    "      \n"
   ]
  },
  {
   "cell_type": "code",
   "execution_count": 18,
   "metadata": {},
   "outputs": [
    {
     "name": "stdout",
     "output_type": "stream",
     "text": [
      "the\n",
      "word123\n",
      "hello\n"
     ]
    }
   ],
   "source": [
    "print(reference('the{7}'))  # Output: 'the'\n",
    "print(reference('word123'))  # Output: 'word123' (no reference to remove)\n",
    "print(reference('hello{9}world'))  # Output: 'hello'\n"
   ]
  },
  {
   "cell_type": "markdown",
   "metadata": {},
   "source": [
    "Now that we have our function, use the `map()` function to apply this function to our book, The Prophet. Return the resulting list to a new list called `prophet_reference`."
   ]
  },
  {
   "cell_type": "code",
   "execution_count": 19,
   "metadata": {},
   "outputs": [
    {
     "name": "stdout",
     "output_type": "stream",
     "text": [
      "['\\ufeffThe', 'Project', 'Gutenberg', 'EBook', 'of', 'The', 'Prophet,', 'by', 'Kahlil', 'Gibran\\n\\nThis']\n"
     ]
    }
   ],
   "source": [
    "# Use the map function to apply the reference function to each word in the book\n",
    "prophet_reference = list(map(reference, prophet))\n",
    "\n",
    "# Print the first 10 words of the new list to verify the results\n",
    "print(prophet_reference[:10])\n"
   ]
  },
  {
   "cell_type": "markdown",
   "metadata": {},
   "source": [
    "Another thing you may have noticed is that some words contain a line break. Let's write a function to split those words. Our function will return the string split on the character `\\n`. Write your function in the cell below."
   ]
  },
  {
   "cell_type": "code",
   "execution_count": 31,
   "metadata": {},
   "outputs": [
    {
     "name": "stdout",
     "output_type": "stream",
     "text": [
      "[['the', 'beloved'], ['and', 'her'], ['in', 'peace']]\n"
     ]
    }
   ],
   "source": [
    "def line_break(x):\n",
    "    '''\n",
    "    Input: A string\n",
    "    Output: A list of strings split on the line break (\\n) character\n",
    "    '''\n",
    "    return x.split('\\n')\n",
    "\n",
    "# Example list with words that may contain line breaks\n",
    "prophet_reference = [\"the\\nbeloved\", \"and\\nher\", \"in\\npeace\"]\n",
    "\n",
    "# Apply line_break to each item in the prophet_reference list\n",
    "prophet_line = list(map(line_break, prophet_reference))\n",
    "\n",
    "# Print the resulting list\n",
    "print(prophet_line)\n"
   ]
  },
  {
   "cell_type": "markdown",
   "metadata": {},
   "source": [
    "Apply the `line_break` function to the `prophet_reference` list. Name the new list `prophet_line`."
   ]
  },
  {
   "cell_type": "code",
   "execution_count": 32,
   "metadata": {
    "scrolled": true
   },
   "outputs": [
    {
     "data": {
      "text/plain": [
       "[['the', 'beloved'], ['and', 'her'], ['in', 'peace']]"
      ]
     },
     "execution_count": 32,
     "metadata": {},
     "output_type": "execute_result"
    }
   ],
   "source": [
    "[\"the\\nbeloved\", \"and\\nher\", \"in\\npeace\"]\n",
    "[['the', 'beloved'], ['and', 'her'], ['in', 'peace']]\n"
   ]
  },
  {
   "cell_type": "markdown",
   "metadata": {},
   "source": [
    "If you look at the elements of `prophet_line`, you will see that the function returned lists and not strings. Our list is now a list of lists. Flatten the list using list comprehension. Assign this new list to `prophet_flat`."
   ]
  },
  {
   "cell_type": "code",
   "execution_count": null,
   "metadata": {},
   "outputs": [],
   "source": [
    "prophet_flat = [i for sub in prophet_line for i in sub]\n",
    "prophet_flat"
   ]
  },
  {
   "cell_type": "code",
   "execution_count": null,
   "metadata": {},
   "outputs": [],
   "source": [
    "# your code here"
   ]
  },
  {
   "cell_type": "markdown",
   "metadata": {},
   "source": [
    "# Challenge 2 - Filtering\n",
    "\n",
    "When printing out a few words from the book, we see that there are words that we may not want to keep if we choose to analyze the corpus of text. Below is a list of words that we would like to get rid of. Create a function that will return false if it contains a word from the list of words specified and true otherwise."
   ]
  },
  {
   "cell_type": "code",
   "execution_count": 28,
   "metadata": {},
   "outputs": [
    {
     "name": "stdout",
     "output_type": "stream",
     "text": [
      "['quick', 'brown', 'fox', 'jumps', 'over', 'lazy', 'dog', 'fence']\n"
     ]
    }
   ],
   "source": [
    "def word_filter(x):\n",
    "    '''\n",
    "    Input: A string\n",
    "    Output: True if the word is not in the specified list \n",
    "            and False if the word is in the list.\n",
    "    '''\n",
    "    word_list = ['and', 'the', 'a', 'an']\n",
    "    \n",
    "    # Check if the word is in the word_list, return True if not\n",
    "    return x.lower() not in word_list\n",
    "\n",
    "# Example input text\n",
    "prophet_text = \"The quick brown fox jumps over a lazy dog and the fence\"\n",
    "\n",
    "# Step 1: Split the input string into words\n",
    "words = prophet_text.split()\n",
    "\n",
    "# Step 2: Use filter() to apply the word_filter function\n",
    "prophet_filter = list(filter(word_filter, words))\n",
    "\n",
    "# Print the filtered list\n",
    "print(prophet_filter)\n",
    "\n",
    "    \n",
    "    # your code here"
   ]
  },
  {
   "cell_type": "markdown",
   "metadata": {},
   "source": [
    "Use the `filter()` function to filter out the words speficied in the `word_filter()` function. Store the filtered list in the variable `prophet_filter`."
   ]
  },
  {
   "cell_type": "code",
   "execution_count": 30,
   "metadata": {
    "scrolled": true
   },
   "outputs": [
    {
     "data": {
      "text/plain": [
       "['quick', 'brown', 'fox', 'jumps', 'over', 'lazy', 'dog', 'fence']"
      ]
     },
     "execution_count": 30,
     "metadata": {},
     "output_type": "execute_result"
    }
   ],
   "source": [
    "\"The quick brown fox jumps over a lazy dog and the fence\"\n",
    "\n",
    "['quick', 'brown', 'fox', 'jumps', 'over', 'lazy', 'dog', 'fence']\n"
   ]
  },
  {
   "cell_type": "markdown",
   "metadata": {},
   "source": [
    "# Bonus Challenge\n",
    "\n",
    "Rewrite the `word_filter` function above to not be case sensitive."
   ]
  },
  {
   "cell_type": "code",
   "execution_count": 27,
   "metadata": {},
   "outputs": [
    {
     "name": "stdout",
     "output_type": "stream",
     "text": [
      "['quick', 'brown', 'fox', 'jumps', 'over', 'lazy', 'dog', 'fence']\n"
     ]
    }
   ],
   "source": [
    "\n",
    "    \n",
    "def word_filter_case(x):\n",
    "    \"\"\"\n",
    "    Removes common words like 'and', 'the', 'a', 'an' from the input string, case-insensitively.\n",
    "    \n",
    "    Parameters:\n",
    "    x (str): The input string containing words to filter.\n",
    "    \n",
    "    Returns:\n",
    "    list: A list of words after filtering out common words.\n",
    "    \"\"\"\n",
    "    word_list = ['and', 'the', 'a', 'an']\n",
    "    \n",
    "    # Split the input string into words\n",
    "    words = x.split()\n",
    "    \n",
    "    # Convert words to lowercase and filter out unwanted words\n",
    "    filtered_words = [word for word in words if word.lower() not in word_list]\n",
    "    \n",
    "    return filtered_words\n",
    "\n",
    "# Example usage:\n",
    "input_string = \"The quick brown fox jumps over a lazy dog and the fence\"\n",
    "filtered = word_filter_case(input_string)\n",
    "print(filtered)\n"
   ]
  },
  {
   "cell_type": "markdown",
   "metadata": {},
   "source": [
    "# Challenge 3 - Reducing\n",
    "\n",
    "#### Now that we have significantly cleaned up our text corpus, let's use the `reduce()` function to put the words back together into one long string separated by spaces. \n",
    "\n",
    "We will start by writing a function that takes two strings and concatenates them together with a space between the two strings."
   ]
  },
  {
   "cell_type": "code",
   "execution_count": null,
   "metadata": {},
   "outputs": [],
   "source": [
    "def concat_space(a, b):\n",
    "    '''\n",
    "    Input:Two strings\n",
    "    Output: A single string separated by a space\n",
    "        \n",
    "    Example:\n",
    "    Input: 'John', 'Smith'\n",
    "    Output: 'John Smith'\n",
    "    '''\n",
    "    \n",
    "    # your code here"
   ]
  },
  {
   "cell_type": "code",
   "execution_count": null,
   "metadata": {
    "scrolled": true
   },
   "outputs": [
    {
     "name": "stdout",
     "output_type": "stream",
     "text": [
      "John Smith\n"
     ]
    }
   ],
   "source": [
    "# Define the concat_space function\n",
    "def concat_space(a, b):\n",
    "    '''\n",
    "    Input: Two strings\n",
    "    Output: A single string separated by a space\n",
    "    \n",
    "    Example:\n",
    "    Input: 'John', 'Smith'\n",
    "    Output: 'John Smith'\n",
    "    '''\n",
    "    return a + ' ' + b\n",
    "\n",
    "\n",
    "a = 'John'\n",
    "b = 'Smith'\n",
    "\n",
    "result = concat_space(a, b)\n",
    "print(result)  \n",
    "\n"
   ]
  },
  {
   "cell_type": "markdown",
   "metadata": {},
   "source": [
    "Use the function above to reduce the text corpus in the list `prophet_filter` into a single string. Assign this new string to the variable `prophet_string`."
   ]
  },
  {
   "cell_type": "code",
   "execution_count": 26,
   "metadata": {},
   "outputs": [
    {
     "name": "stdout",
     "output_type": "stream",
     "text": [
      "the Prophet by Khalil Gibran\n"
     ]
    }
   ],
   "source": [
    "from functools import reduce\n",
    "\n",
    "# Assuming prophet_filter contains your cleaned list of words\n",
    "# For example, let's assume it contains some words after cleaning:\n",
    "prophet_filter = ['the', 'Prophet', 'by', 'Khalil', 'Gibran']\n",
    "\n",
    "# Define the concat_space function (if it's not defined yet)\n",
    "def concat_space(a, b):\n",
    "    '''\n",
    "    Input: Two strings\n",
    "    Output: A single string separated by a space\n",
    "    '''\n",
    "    return a + ' ' + b\n",
    "\n",
    "# Use reduce to concatenate all the words into a single string with spaces\n",
    "prophet_string = reduce(concat_space, prophet_filter)\n",
    "\n",
    "# Print the first 100 characters to check if it worked (just for preview)\n",
    "print(prophet_string[:100])  # Displaying the first 100 characters of the resulting string\n"
   ]
  }
 ],
 "metadata": {
  "kernelspec": {
   "display_name": "Python 3",
   "language": "python",
   "name": "python3"
  },
  "language_info": {
   "codemirror_mode": {
    "name": "ipython",
    "version": 3
   },
   "file_extension": ".py",
   "mimetype": "text/x-python",
   "name": "python",
   "nbconvert_exporter": "python",
   "pygments_lexer": "ipython3",
   "version": "3.9.6"
  }
 },
 "nbformat": 4,
 "nbformat_minor": 2
}
